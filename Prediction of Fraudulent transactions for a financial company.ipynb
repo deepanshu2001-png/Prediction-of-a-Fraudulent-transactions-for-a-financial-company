{
 "cells": [
  {
   "cell_type": "code",
   "execution_count": 1,
   "id": "7a9ec157",
   "metadata": {},
   "outputs": [],
   "source": [
    "import pandas as pd\n",
    "import numpy as np\n",
    "import matplotlib.pyplot as plt\n",
    "%matplotlib inline\n",
    "import seaborn as sns"
   ]
  },
  {
   "cell_type": "code",
   "execution_count": 2,
   "id": "517a7499",
   "metadata": {},
   "outputs": [],
   "source": [
    "df = pd.read_csv(\"Fraud.csv\")"
   ]
  },
  {
   "cell_type": "markdown",
   "id": "bc86d8a5",
   "metadata": {},
   "source": [
    "#Exploring the Data"
   ]
  },
  {
   "cell_type": "code",
   "execution_count": 3,
   "id": "460e268a",
   "metadata": {},
   "outputs": [
    {
     "data": {
      "text/html": [
       "<div>\n",
       "<style scoped>\n",
       "    .dataframe tbody tr th:only-of-type {\n",
       "        vertical-align: middle;\n",
       "    }\n",
       "\n",
       "    .dataframe tbody tr th {\n",
       "        vertical-align: top;\n",
       "    }\n",
       "\n",
       "    .dataframe thead th {\n",
       "        text-align: right;\n",
       "    }\n",
       "</style>\n",
       "<table border=\"1\" class=\"dataframe\">\n",
       "  <thead>\n",
       "    <tr style=\"text-align: right;\">\n",
       "      <th></th>\n",
       "      <th>step</th>\n",
       "      <th>type</th>\n",
       "      <th>amount</th>\n",
       "      <th>nameOrig</th>\n",
       "      <th>oldbalanceOrg</th>\n",
       "      <th>newbalanceOrig</th>\n",
       "      <th>nameDest</th>\n",
       "      <th>oldbalanceDest</th>\n",
       "      <th>newbalanceDest</th>\n",
       "      <th>isFraud</th>\n",
       "      <th>isFlaggedFraud</th>\n",
       "    </tr>\n",
       "  </thead>\n",
       "  <tbody>\n",
       "    <tr>\n",
       "      <th>0</th>\n",
       "      <td>1</td>\n",
       "      <td>PAYMENT</td>\n",
       "      <td>9839.64</td>\n",
       "      <td>C1231006815</td>\n",
       "      <td>170136.0</td>\n",
       "      <td>160296.36</td>\n",
       "      <td>M1979787155</td>\n",
       "      <td>0.0</td>\n",
       "      <td>0.0</td>\n",
       "      <td>0</td>\n",
       "      <td>0</td>\n",
       "    </tr>\n",
       "    <tr>\n",
       "      <th>1</th>\n",
       "      <td>1</td>\n",
       "      <td>PAYMENT</td>\n",
       "      <td>1864.28</td>\n",
       "      <td>C1666544295</td>\n",
       "      <td>21249.0</td>\n",
       "      <td>19384.72</td>\n",
       "      <td>M2044282225</td>\n",
       "      <td>0.0</td>\n",
       "      <td>0.0</td>\n",
       "      <td>0</td>\n",
       "      <td>0</td>\n",
       "    </tr>\n",
       "    <tr>\n",
       "      <th>2</th>\n",
       "      <td>1</td>\n",
       "      <td>TRANSFER</td>\n",
       "      <td>181.00</td>\n",
       "      <td>C1305486145</td>\n",
       "      <td>181.0</td>\n",
       "      <td>0.00</td>\n",
       "      <td>C553264065</td>\n",
       "      <td>0.0</td>\n",
       "      <td>0.0</td>\n",
       "      <td>1</td>\n",
       "      <td>0</td>\n",
       "    </tr>\n",
       "    <tr>\n",
       "      <th>3</th>\n",
       "      <td>1</td>\n",
       "      <td>CASH_OUT</td>\n",
       "      <td>181.00</td>\n",
       "      <td>C840083671</td>\n",
       "      <td>181.0</td>\n",
       "      <td>0.00</td>\n",
       "      <td>C38997010</td>\n",
       "      <td>21182.0</td>\n",
       "      <td>0.0</td>\n",
       "      <td>1</td>\n",
       "      <td>0</td>\n",
       "    </tr>\n",
       "    <tr>\n",
       "      <th>4</th>\n",
       "      <td>1</td>\n",
       "      <td>PAYMENT</td>\n",
       "      <td>11668.14</td>\n",
       "      <td>C2048537720</td>\n",
       "      <td>41554.0</td>\n",
       "      <td>29885.86</td>\n",
       "      <td>M1230701703</td>\n",
       "      <td>0.0</td>\n",
       "      <td>0.0</td>\n",
       "      <td>0</td>\n",
       "      <td>0</td>\n",
       "    </tr>\n",
       "  </tbody>\n",
       "</table>\n",
       "</div>"
      ],
      "text/plain": [
       "   step      type    amount     nameOrig  oldbalanceOrg  newbalanceOrig  \\\n",
       "0     1   PAYMENT   9839.64  C1231006815       170136.0       160296.36   \n",
       "1     1   PAYMENT   1864.28  C1666544295        21249.0        19384.72   \n",
       "2     1  TRANSFER    181.00  C1305486145          181.0            0.00   \n",
       "3     1  CASH_OUT    181.00   C840083671          181.0            0.00   \n",
       "4     1   PAYMENT  11668.14  C2048537720        41554.0        29885.86   \n",
       "\n",
       "      nameDest  oldbalanceDest  newbalanceDest  isFraud  isFlaggedFraud  \n",
       "0  M1979787155             0.0             0.0        0               0  \n",
       "1  M2044282225             0.0             0.0        0               0  \n",
       "2   C553264065             0.0             0.0        1               0  \n",
       "3    C38997010         21182.0             0.0        1               0  \n",
       "4  M1230701703             0.0             0.0        0               0  "
      ]
     },
     "execution_count": 3,
     "metadata": {},
     "output_type": "execute_result"
    }
   ],
   "source": [
    "df.head()"
   ]
  },
  {
   "cell_type": "code",
   "execution_count": 4,
   "id": "34e29133",
   "metadata": {},
   "outputs": [
    {
     "data": {
      "text/plain": [
       "(6362620, 11)"
      ]
     },
     "execution_count": 4,
     "metadata": {},
     "output_type": "execute_result"
    }
   ],
   "source": [
    "df.shape"
   ]
  },
  {
   "cell_type": "code",
   "execution_count": 5,
   "id": "dc08fcb9",
   "metadata": {},
   "outputs": [
    {
     "data": {
      "text/html": [
       "<div>\n",
       "<style scoped>\n",
       "    .dataframe tbody tr th:only-of-type {\n",
       "        vertical-align: middle;\n",
       "    }\n",
       "\n",
       "    .dataframe tbody tr th {\n",
       "        vertical-align: top;\n",
       "    }\n",
       "\n",
       "    .dataframe thead th {\n",
       "        text-align: right;\n",
       "    }\n",
       "</style>\n",
       "<table border=\"1\" class=\"dataframe\">\n",
       "  <thead>\n",
       "    <tr style=\"text-align: right;\">\n",
       "      <th></th>\n",
       "      <th>step</th>\n",
       "      <th>amount</th>\n",
       "      <th>oldbalanceOrg</th>\n",
       "      <th>newbalanceOrig</th>\n",
       "      <th>oldbalanceDest</th>\n",
       "      <th>newbalanceDest</th>\n",
       "      <th>isFraud</th>\n",
       "      <th>isFlaggedFraud</th>\n",
       "    </tr>\n",
       "  </thead>\n",
       "  <tbody>\n",
       "    <tr>\n",
       "      <th>count</th>\n",
       "      <td>6.362620e+06</td>\n",
       "      <td>6.362620e+06</td>\n",
       "      <td>6.362620e+06</td>\n",
       "      <td>6.362620e+06</td>\n",
       "      <td>6.362620e+06</td>\n",
       "      <td>6.362620e+06</td>\n",
       "      <td>6.362620e+06</td>\n",
       "      <td>6.362620e+06</td>\n",
       "    </tr>\n",
       "    <tr>\n",
       "      <th>mean</th>\n",
       "      <td>2.433972e+02</td>\n",
       "      <td>1.798619e+05</td>\n",
       "      <td>8.338831e+05</td>\n",
       "      <td>8.551137e+05</td>\n",
       "      <td>1.100702e+06</td>\n",
       "      <td>1.224996e+06</td>\n",
       "      <td>1.290820e-03</td>\n",
       "      <td>2.514687e-06</td>\n",
       "    </tr>\n",
       "    <tr>\n",
       "      <th>std</th>\n",
       "      <td>1.423320e+02</td>\n",
       "      <td>6.038582e+05</td>\n",
       "      <td>2.888243e+06</td>\n",
       "      <td>2.924049e+06</td>\n",
       "      <td>3.399180e+06</td>\n",
       "      <td>3.674129e+06</td>\n",
       "      <td>3.590480e-02</td>\n",
       "      <td>1.585775e-03</td>\n",
       "    </tr>\n",
       "    <tr>\n",
       "      <th>min</th>\n",
       "      <td>1.000000e+00</td>\n",
       "      <td>0.000000e+00</td>\n",
       "      <td>0.000000e+00</td>\n",
       "      <td>0.000000e+00</td>\n",
       "      <td>0.000000e+00</td>\n",
       "      <td>0.000000e+00</td>\n",
       "      <td>0.000000e+00</td>\n",
       "      <td>0.000000e+00</td>\n",
       "    </tr>\n",
       "    <tr>\n",
       "      <th>25%</th>\n",
       "      <td>1.560000e+02</td>\n",
       "      <td>1.338957e+04</td>\n",
       "      <td>0.000000e+00</td>\n",
       "      <td>0.000000e+00</td>\n",
       "      <td>0.000000e+00</td>\n",
       "      <td>0.000000e+00</td>\n",
       "      <td>0.000000e+00</td>\n",
       "      <td>0.000000e+00</td>\n",
       "    </tr>\n",
       "    <tr>\n",
       "      <th>50%</th>\n",
       "      <td>2.390000e+02</td>\n",
       "      <td>7.487194e+04</td>\n",
       "      <td>1.420800e+04</td>\n",
       "      <td>0.000000e+00</td>\n",
       "      <td>1.327057e+05</td>\n",
       "      <td>2.146614e+05</td>\n",
       "      <td>0.000000e+00</td>\n",
       "      <td>0.000000e+00</td>\n",
       "    </tr>\n",
       "    <tr>\n",
       "      <th>75%</th>\n",
       "      <td>3.350000e+02</td>\n",
       "      <td>2.087215e+05</td>\n",
       "      <td>1.073152e+05</td>\n",
       "      <td>1.442584e+05</td>\n",
       "      <td>9.430367e+05</td>\n",
       "      <td>1.111909e+06</td>\n",
       "      <td>0.000000e+00</td>\n",
       "      <td>0.000000e+00</td>\n",
       "    </tr>\n",
       "    <tr>\n",
       "      <th>max</th>\n",
       "      <td>7.430000e+02</td>\n",
       "      <td>9.244552e+07</td>\n",
       "      <td>5.958504e+07</td>\n",
       "      <td>4.958504e+07</td>\n",
       "      <td>3.560159e+08</td>\n",
       "      <td>3.561793e+08</td>\n",
       "      <td>1.000000e+00</td>\n",
       "      <td>1.000000e+00</td>\n",
       "    </tr>\n",
       "  </tbody>\n",
       "</table>\n",
       "</div>"
      ],
      "text/plain": [
       "               step        amount  oldbalanceOrg  newbalanceOrig  \\\n",
       "count  6.362620e+06  6.362620e+06   6.362620e+06    6.362620e+06   \n",
       "mean   2.433972e+02  1.798619e+05   8.338831e+05    8.551137e+05   \n",
       "std    1.423320e+02  6.038582e+05   2.888243e+06    2.924049e+06   \n",
       "min    1.000000e+00  0.000000e+00   0.000000e+00    0.000000e+00   \n",
       "25%    1.560000e+02  1.338957e+04   0.000000e+00    0.000000e+00   \n",
       "50%    2.390000e+02  7.487194e+04   1.420800e+04    0.000000e+00   \n",
       "75%    3.350000e+02  2.087215e+05   1.073152e+05    1.442584e+05   \n",
       "max    7.430000e+02  9.244552e+07   5.958504e+07    4.958504e+07   \n",
       "\n",
       "       oldbalanceDest  newbalanceDest       isFraud  isFlaggedFraud  \n",
       "count    6.362620e+06    6.362620e+06  6.362620e+06    6.362620e+06  \n",
       "mean     1.100702e+06    1.224996e+06  1.290820e-03    2.514687e-06  \n",
       "std      3.399180e+06    3.674129e+06  3.590480e-02    1.585775e-03  \n",
       "min      0.000000e+00    0.000000e+00  0.000000e+00    0.000000e+00  \n",
       "25%      0.000000e+00    0.000000e+00  0.000000e+00    0.000000e+00  \n",
       "50%      1.327057e+05    2.146614e+05  0.000000e+00    0.000000e+00  \n",
       "75%      9.430367e+05    1.111909e+06  0.000000e+00    0.000000e+00  \n",
       "max      3.560159e+08    3.561793e+08  1.000000e+00    1.000000e+00  "
      ]
     },
     "execution_count": 5,
     "metadata": {},
     "output_type": "execute_result"
    }
   ],
   "source": [
    "df.describe()"
   ]
  },
  {
   "cell_type": "code",
   "execution_count": 6,
   "id": "3cdef18b",
   "metadata": {},
   "outputs": [
    {
     "name": "stdout",
     "output_type": "stream",
     "text": [
      "<class 'pandas.core.frame.DataFrame'>\n",
      "RangeIndex: 6362620 entries, 0 to 6362619\n",
      "Data columns (total 11 columns):\n",
      " #   Column          Dtype  \n",
      "---  ------          -----  \n",
      " 0   step            int64  \n",
      " 1   type            object \n",
      " 2   amount          float64\n",
      " 3   nameOrig        object \n",
      " 4   oldbalanceOrg   float64\n",
      " 5   newbalanceOrig  float64\n",
      " 6   nameDest        object \n",
      " 7   oldbalanceDest  float64\n",
      " 8   newbalanceDest  float64\n",
      " 9   isFraud         int64  \n",
      " 10  isFlaggedFraud  int64  \n",
      "dtypes: float64(5), int64(3), object(3)\n",
      "memory usage: 534.0+ MB\n"
     ]
    }
   ],
   "source": [
    "df.info()"
   ]
  },
  {
   "cell_type": "code",
   "execution_count": 7,
   "id": "b214ee0c",
   "metadata": {},
   "outputs": [
    {
     "data": {
      "text/plain": [
       "step              0\n",
       "type              0\n",
       "amount            0\n",
       "nameOrig          0\n",
       "oldbalanceOrg     0\n",
       "newbalanceOrig    0\n",
       "nameDest          0\n",
       "oldbalanceDest    0\n",
       "newbalanceDest    0\n",
       "isFraud           0\n",
       "isFlaggedFraud    0\n",
       "dtype: int64"
      ]
     },
     "execution_count": 7,
     "metadata": {},
     "output_type": "execute_result"
    }
   ],
   "source": [
    "df.isnull().sum()"
   ]
  },
  {
   "cell_type": "markdown",
   "id": "5d1727cb",
   "metadata": {},
   "source": [
    "#Removing Outliers From Dataset"
   ]
  },
  {
   "cell_type": "code",
   "execution_count": 8,
   "id": "d8c80946",
   "metadata": {},
   "outputs": [
    {
     "name": "stderr",
     "output_type": "stream",
     "text": [
      "D:\\anaconda\\lib\\site-packages\\seaborn\\_decorators.py:36: FutureWarning: Pass the following variable as a keyword arg: x. From version 0.12, the only valid positional argument will be `data`, and passing other arguments without an explicit keyword will result in an error or misinterpretation.\n",
      "  warnings.warn(\n"
     ]
    },
    {
     "data": {
      "text/plain": [
       "<AxesSubplot:xlabel='amount'>"
      ]
     },
     "execution_count": 8,
     "metadata": {},
     "output_type": "execute_result"
    },
    {
     "data": {
      "image/png": "[encoded data removed]",
      "text/plain": [
       "<Figure size 432x288 with 1 Axes>"
      ]
     },
     "metadata": {
      "needs_background": "light"
     },
     "output_type": "display_data"
    }
   ],
   "source": [
    "sns.boxplot(df['amount'])"
   ]
  },
  {
   "cell_type": "code",
   "execution_count": 9,
   "id": "d69a23c1",
   "metadata": {},
   "outputs": [
    {
     "name": "stderr",
     "output_type": "stream",
     "text": [
      "D:\\anaconda\\lib\\site-packages\\seaborn\\_decorators.py:36: FutureWarning: Pass the following variable as a keyword arg: x. From version 0.12, the only valid positional argument will be `data`, and passing other arguments without an explicit keyword will result in an error or misinterpretation.\n",
      "  warnings.warn(\n"
     ]
    },
    {
     "data": {
      "text/plain": [
       "<AxesSubplot:xlabel='type', ylabel='count'>"
      ]
     },
     "execution_count": 9,
     "metadata": {},
     "output_type": "execute_result"
    },
    {
     "data": {
      "image/png": "[encoded data removed]",
      "text/plain": [
       "<Figure size 432x288 with 1 Axes>"
      ]
     },
     "metadata": {
      "needs_background": "light"
     },
     "output_type": "display_data"
    }
   ],
   "source": [
    "sns.countplot(df['type'])"
   ]
  },
  {
   "cell_type": "code",
   "execution_count": 10,
   "id": "55786b1a",
   "metadata": {},
   "outputs": [
    {
     "name": "stdout",
     "output_type": "stream",
     "text": [
      "Total Unique Values in nameOrig 6353307\n"
     ]
    }
   ],
   "source": [
    "print(\"Total Unique Values in nameOrig\", df['nameOrig'].nunique())"
   ]
  },
  {
   "cell_type": "code",
   "execution_count": 11,
   "id": "b33db59b",
   "metadata": {},
   "outputs": [
    {
     "name": "stdout",
     "output_type": "stream",
     "text": [
      "Total Unique Values in nameDest 2722362\n"
     ]
    }
   ],
   "source": [
    "print(\"Total Unique Values in nameDest\", df['nameDest'].nunique())"
   ]
  },
  {
   "cell_type": "markdown",
   "id": "d585a99e",
   "metadata": {},
   "source": [
    "## Observations :\n",
    "\n",
    "\n",
    "1.Amount Column has Outliers\n",
    "\n",
    "2.Debit type transaction count is very small\n",
    "\n",
    "3.Total Unique values in nameOrig is 6353307\n",
    "\n",
    "4.Total Unique values in nameDest is 2722362"
   ]
  },
  {
   "cell_type": "markdown",
   "id": "bdcdeaf8",
   "metadata": {},
   "source": [
    "## Multi-Collinearity Checking\n",
    "\n"
   ]
  },
  {
   "cell_type": "code",
   "execution_count": 12,
   "id": "b7e9bc69",
   "metadata": {},
   "outputs": [
    {
     "name": "stdout",
     "output_type": "stream",
     "text": [
      "          feature         VIF\n",
      "0            step    1.191094\n",
      "1          amount    4.078952\n",
      "2   oldbalanceOrg  544.053103\n",
      "3  newbalanceOrig  546.346008\n",
      "4  oldbalanceDest   72.895522\n",
      "5  newbalanceDest   84.584619\n",
      "6         isFraud    1.188386\n",
      "7  isFlaggedFraud    1.002546\n"
     ]
    }
   ],
   "source": [
    "from statsmodels.stats.outliers_influence import variance_inflation_factor\n",
    "\n",
    "data_without_text=pd.DataFrame({\"step\":df.step,\n",
    "                                \"amount\":df.amount,\n",
    "                               \"oldbalanceOrg\":df.oldbalanceOrg,\n",
    "                               \"newbalanceOrig\":df.newbalanceOrig,\n",
    "                               \"oldbalanceDest\":df.oldbalanceDest,\n",
    "                               \"newbalanceDest\":df.newbalanceDest,\n",
    "                               \"isFraud\":df.isFraud,\n",
    "                               \"isFlaggedFraud\":df.isFlaggedFraud})\n",
    "vif_data = pd.DataFrame()\n",
    "vif_data[\"feature\"] = data_without_text.columns\n",
    "  \n",
    "vif_data[\"VIF\"] = [variance_inflation_factor(data_without_text.values, i)\n",
    "                          for i in range(len(data_without_text.columns))]\n",
    "  \n",
    "print(vif_data)"
   ]
  },
  {
   "cell_type": "markdown",
   "id": "f0530f60",
   "metadata": {},
   "source": [
    "## Observations\n",
    "\n",
    "-- we can observe that oldbalanceorg\" and \"newbalanceorig\" has high vif value which means they are responsible for creating multi-collinearity\n",
    "\n",
    "\n",
    "-- also \"oldbalanceDest\" and \"newbalanceDest\" also has multi-collinearity\n",
    "\n",
    "\n",
    "\n"
   ]
  },
  {
   "cell_type": "markdown",
   "id": "c683c644",
   "metadata": {},
   "source": [
    "## Solution\n",
    "\n",
    "We will remove \"oldbalnceorg\" and \"newbalaceorig\" and add the difference of column in the data set df and do the same thing for other columns too which are responsible for creating multi-collinearity"
   ]
  },
  {
   "cell_type": "code",
   "execution_count": 13,
   "id": "9883d194",
   "metadata": {},
   "outputs": [
    {
     "name": "stderr",
     "output_type": "stream",
     "text": [
      "100%|████████████████████████████████████████████████████████████████████| 6362620/6362620 [00:33<00:00, 187479.24it/s]\n"
     ]
    }
   ],
   "source": [
    "from tqdm import tqdm\n",
    "\n",
    "initial_balance=df[\"oldbalanceOrg\"]\n",
    "new_balance=df[\"newbalanceOrig\"]\n",
    "updated_balance=[]\n",
    "\n",
    "for k in tqdm(range(len(initial_balance))):\n",
    "    \n",
    "    \n",
    "  diff=new_balance[k]-initial_balance[k]\n",
    "\n",
    "\n",
    "  if diff>0:\n",
    "      updated_balance.append(0)\n",
    "  else:\n",
    "      updated_balance.append(1)"
   ]
  },
  {
   "cell_type": "code",
   "execution_count": 14,
   "id": "aba4e53b",
   "metadata": {},
   "outputs": [
    {
     "name": "stderr",
     "output_type": "stream",
     "text": [
      "100%|████████████████████████████████████████████████████████████████████| 6362620/6362620 [00:32<00:00, 196667.86it/s]\n"
     ]
    }
   ],
   "source": [
    "old_dest=df[\"oldbalanceDest\"]\n",
    "new_dest=df[\"newbalanceDest\"]\n",
    "updated_dest_bal_change=[]\n",
    "dest_balance=[]\n",
    "\n",
    "for i in tqdm(range(len(old_dest))):\n",
    "    \n",
    "    \n",
    "    diff=new_dest[i]-old_dest[i]\n",
    "    \n",
    "    \n",
    "    if diff>0:\n",
    "        updated_dest_bal_change.append(0)\n",
    "        dest_balance.append(abs(diff))\n",
    "    else:\n",
    "        updated_dest_bal_change.append(1)\n",
    "        dest_balance.append(abs(diff))"
   ]
  },
  {
   "cell_type": "code",
   "execution_count": 15,
   "id": "7f40ac4f",
   "metadata": {},
   "outputs": [],
   "source": [
    "df[\"source_balance_change\"]=updated_balance\n",
    "df[\"destination_balance\"]= dest_balance\n",
    "df[\"dest_balance_change\"]=updated_dest_bal_change"
   ]
  },
  {
   "cell_type": "code",
   "execution_count": 16,
   "id": "b59aad91",
   "metadata": {},
   "outputs": [],
   "source": [
    "df.drop([\"oldbalanceOrg\",\"newbalanceOrig\",\"oldbalanceDest\",\"newbalanceDest\"],axis=1,inplace=True)"
   ]
  },
  {
   "cell_type": "code",
   "execution_count": 17,
   "id": "073602be",
   "metadata": {},
   "outputs": [
    {
     "data": {
      "text/html": [
       "<div>\n",
       "<style scoped>\n",
       "    .dataframe tbody tr th:only-of-type {\n",
       "        vertical-align: middle;\n",
       "    }\n",
       "\n",
       "    .dataframe tbody tr th {\n",
       "        vertical-align: top;\n",
       "    }\n",
       "\n",
       "    .dataframe thead th {\n",
       "        text-align: right;\n",
       "    }\n",
       "</style>\n",
       "<table border=\"1\" class=\"dataframe\">\n",
       "  <thead>\n",
       "    <tr style=\"text-align: right;\">\n",
       "      <th></th>\n",
       "      <th>step</th>\n",
       "      <th>type</th>\n",
       "      <th>amount</th>\n",
       "      <th>nameOrig</th>\n",
       "      <th>nameDest</th>\n",
       "      <th>isFraud</th>\n",
       "      <th>isFlaggedFraud</th>\n",
       "      <th>source_balance_change</th>\n",
       "      <th>destination_balance</th>\n",
       "      <th>dest_balance_change</th>\n",
       "    </tr>\n",
       "  </thead>\n",
       "  <tbody>\n",
       "    <tr>\n",
       "      <th>0</th>\n",
       "      <td>1</td>\n",
       "      <td>PAYMENT</td>\n",
       "      <td>9839.64</td>\n",
       "      <td>C1231006815</td>\n",
       "      <td>M1979787155</td>\n",
       "      <td>0</td>\n",
       "      <td>0</td>\n",
       "      <td>1</td>\n",
       "      <td>0.0</td>\n",
       "      <td>1</td>\n",
       "    </tr>\n",
       "    <tr>\n",
       "      <th>1</th>\n",
       "      <td>1</td>\n",
       "      <td>PAYMENT</td>\n",
       "      <td>1864.28</td>\n",
       "      <td>C1666544295</td>\n",
       "      <td>M2044282225</td>\n",
       "      <td>0</td>\n",
       "      <td>0</td>\n",
       "      <td>1</td>\n",
       "      <td>0.0</td>\n",
       "      <td>1</td>\n",
       "    </tr>\n",
       "    <tr>\n",
       "      <th>2</th>\n",
       "      <td>1</td>\n",
       "      <td>TRANSFER</td>\n",
       "      <td>181.00</td>\n",
       "      <td>C1305486145</td>\n",
       "      <td>C553264065</td>\n",
       "      <td>1</td>\n",
       "      <td>0</td>\n",
       "      <td>1</td>\n",
       "      <td>0.0</td>\n",
       "      <td>1</td>\n",
       "    </tr>\n",
       "    <tr>\n",
       "      <th>3</th>\n",
       "      <td>1</td>\n",
       "      <td>CASH_OUT</td>\n",
       "      <td>181.00</td>\n",
       "      <td>C840083671</td>\n",
       "      <td>C38997010</td>\n",
       "      <td>1</td>\n",
       "      <td>0</td>\n",
       "      <td>1</td>\n",
       "      <td>21182.0</td>\n",
       "      <td>1</td>\n",
       "    </tr>\n",
       "    <tr>\n",
       "      <th>4</th>\n",
       "      <td>1</td>\n",
       "      <td>PAYMENT</td>\n",
       "      <td>11668.14</td>\n",
       "      <td>C2048537720</td>\n",
       "      <td>M1230701703</td>\n",
       "      <td>0</td>\n",
       "      <td>0</td>\n",
       "      <td>1</td>\n",
       "      <td>0.0</td>\n",
       "      <td>1</td>\n",
       "    </tr>\n",
       "  </tbody>\n",
       "</table>\n",
       "</div>"
      ],
      "text/plain": [
       "   step      type    amount     nameOrig     nameDest  isFraud  \\\n",
       "0     1   PAYMENT   9839.64  C1231006815  M1979787155        0   \n",
       "1     1   PAYMENT   1864.28  C1666544295  M2044282225        0   \n",
       "2     1  TRANSFER    181.00  C1305486145   C553264065        1   \n",
       "3     1  CASH_OUT    181.00   C840083671    C38997010        1   \n",
       "4     1   PAYMENT  11668.14  C2048537720  M1230701703        0   \n",
       "\n",
       "   isFlaggedFraud  source_balance_change  destination_balance  \\\n",
       "0               0                      1                  0.0   \n",
       "1               0                      1                  0.0   \n",
       "2               0                      1                  0.0   \n",
       "3               0                      1              21182.0   \n",
       "4               0                      1                  0.0   \n",
       "\n",
       "   dest_balance_change  \n",
       "0                    1  \n",
       "1                    1  \n",
       "2                    1  \n",
       "3                    1  \n",
       "4                    1  "
      ]
     },
     "execution_count": 17,
     "metadata": {},
     "output_type": "execute_result"
    }
   ],
   "source": [
    "df.head()"
   ]
  },
  {
   "cell_type": "code",
   "execution_count": 18,
   "id": "931344f7",
   "metadata": {},
   "outputs": [
    {
     "name": "stdout",
     "output_type": "stream",
     "text": [
      "<class 'pandas.core.frame.DataFrame'>\n",
      "RangeIndex: 6362620 entries, 0 to 6362619\n",
      "Data columns (total 10 columns):\n",
      " #   Column                 Dtype  \n",
      "---  ------                 -----  \n",
      " 0   step                   int64  \n",
      " 1   type                   object \n",
      " 2   amount                 float64\n",
      " 3   nameOrig               object \n",
      " 4   nameDest               object \n",
      " 5   isFraud                int64  \n",
      " 6   isFlaggedFraud         int64  \n",
      " 7   source_balance_change  int64  \n",
      " 8   destination_balance    float64\n",
      " 9   dest_balance_change    int64  \n",
      "dtypes: float64(2), int64(5), object(3)\n",
      "memory usage: 485.4+ MB\n"
     ]
    }
   ],
   "source": [
    "df.info()"
   ]
  },
  {
   "cell_type": "markdown",
   "id": "b26973c4",
   "metadata": {},
   "source": [
    "## Checking collineraity on dataset after removing columns having high variance inflation factor"
   ]
  },
  {
   "cell_type": "code",
   "execution_count": 19,
   "id": "537d99f6",
   "metadata": {},
   "outputs": [],
   "source": [
    "output=df[\"isFraud\"]\n",
    "df.drop(\"isFraud\",axis=1,inplace=True)"
   ]
  },
  {
   "cell_type": "code",
   "execution_count": 20,
   "id": "01992a6c",
   "metadata": {},
   "outputs": [
    {
     "name": "stdout",
     "output_type": "stream",
     "text": [
      "8213\n",
      "6354407\n"
     ]
    }
   ],
   "source": [
    "True_fraud=np.sum(output==1)\n",
    "False_fraud=np.sum(output==0)\n",
    "print(True_fraud)\n",
    "print(False_fraud)\n"
   ]
  },
  {
   "cell_type": "markdown",
   "id": "2cac8cc4",
   "metadata": {},
   "source": [
    "## The result clearly shows imbalances present in the data so we have to check imabalance data and perform downsampling on data"
   ]
  },
  {
   "cell_type": "code",
   "execution_count": 31,
   "id": "d192d78c",
   "metadata": {},
   "outputs": [],
   "source": [
    "from sklearn.model_selection import train_test_split\n",
    "x_train,x_test,y_train,y_test=train_test_split(df,output,test_size=0.20,random_state=42)"
   ]
  },
  {
   "cell_type": "code",
   "execution_count": 32,
   "id": "93f84554",
   "metadata": {},
   "outputs": [
    {
     "name": "stdout",
     "output_type": "stream",
     "text": [
      "(5090096, 9)\n",
      "(1272524, 9)\n",
      "(5090096,)\n",
      "(1272524,)\n"
     ]
    }
   ],
   "source": [
    "print(x_train.shape)\n",
    "print(x_test.shape)\n",
    "print(y_train.shape)\n",
    "print(y_test.shape)"
   ]
  },
  {
   "cell_type": "markdown",
   "id": "f27182d4",
   "metadata": {},
   "source": [
    "## Categorical data"
   ]
  },
  {
   "cell_type": "code",
   "execution_count": 33,
   "id": "95f34c99",
   "metadata": {},
   "outputs": [],
   "source": [
    "from sklearn import preprocessing   \n",
    "label_encoder1 = preprocessing.LabelEncoder()\n",
    "label_encoder1.fit(df[\"type\"])\n",
    "train_type=label_encoder1.transform(x_train[\"type\"])\n",
    "test_type=label_encoder1.transform(x_test[\"type\"])"
   ]
  },
  {
   "cell_type": "code",
   "execution_count": 34,
   "id": "9694ee40",
   "metadata": {},
   "outputs": [],
   "source": [
    "label_encoder2=preprocessing.LabelEncoder()\n",
    "label_encoder2.fit(df[\"nameOrig\"])\n",
    "train_nameOrig=label_encoder2.transform(x_train[\"nameOrig\"])\n",
    "test_nameOrig=label_encoder2.transform(x_test[\"nameOrig\"])"
   ]
  },
  {
   "cell_type": "code",
   "execution_count": 35,
   "id": "e48f4309",
   "metadata": {},
   "outputs": [],
   "source": [
    "label_encoder3=preprocessing.LabelEncoder()\n",
    "label_encoder3.fit(df[\"nameDest\"])\n",
    "train_nameDest=label_encoder3.transform(x_train[\"nameDest\"])\n",
    "test_nameDest=label_encoder3.transform(x_test[\"nameDest\"])"
   ]
  },
  {
   "cell_type": "code",
   "execution_count": 36,
   "id": "903e2ac4",
   "metadata": {},
   "outputs": [
    {
     "name": "stderr",
     "output_type": "stream",
     "text": [
      "D:\\anaconda\\lib\\site-packages\\pandas\\core\\frame.py:4906: SettingWithCopyWarning: \n",
      "A value is trying to be set on a copy of a slice from a DataFrame\n",
      "\n",
      "See the caveats in the documentation: https://pandas.pydata.org/pandas-docs/stable/user_guide/indexing.html#returning-a-view-versus-a-copy\n",
      "  return super().drop(\n"
     ]
    }
   ],
   "source": [
    "x_train.drop([\"type\",\"nameOrig\",\"nameDest\"],axis=1,inplace=True)"
   ]
  },
  {
   "cell_type": "code",
   "execution_count": 37,
   "id": "867b4243",
   "metadata": {},
   "outputs": [
    {
     "name": "stderr",
     "output_type": "stream",
     "text": [
      "C:\\Users\\Deepanshu\\AppData\\Local\\Temp/ipykernel_21484/2064564252.py:1: SettingWithCopyWarning: \n",
      "A value is trying to be set on a copy of a slice from a DataFrame.\n",
      "Try using .loc[row_indexer,col_indexer] = value instead\n",
      "\n",
      "See the caveats in the documentation: https://pandas.pydata.org/pandas-docs/stable/user_guide/indexing.html#returning-a-view-versus-a-copy\n",
      "  x_train[\"type\"]=train_type\n",
      "C:\\Users\\Deepanshu\\AppData\\Local\\Temp/ipykernel_21484/2064564252.py:2: SettingWithCopyWarning: \n",
      "A value is trying to be set on a copy of a slice from a DataFrame.\n",
      "Try using .loc[row_indexer,col_indexer] = value instead\n",
      "\n",
      "See the caveats in the documentation: https://pandas.pydata.org/pandas-docs/stable/user_guide/indexing.html#returning-a-view-versus-a-copy\n",
      "  x_train[\"nameOrig\"]=train_nameOrig\n",
      "C:\\Users\\Deepanshu\\AppData\\Local\\Temp/ipykernel_21484/2064564252.py:3: SettingWithCopyWarning: \n",
      "A value is trying to be set on a copy of a slice from a DataFrame.\n",
      "Try using .loc[row_indexer,col_indexer] = value instead\n",
      "\n",
      "See the caveats in the documentation: https://pandas.pydata.org/pandas-docs/stable/user_guide/indexing.html#returning-a-view-versus-a-copy\n",
      "  x_train[\"nameDest\"]=train_nameDest\n"
     ]
    }
   ],
   "source": [
    "x_train[\"type\"]=train_type\n",
    "x_train[\"nameOrig\"]=train_nameOrig\n",
    "x_train[\"nameDest\"]=train_nameDest"
   ]
  },
  {
   "cell_type": "code",
   "execution_count": 38,
   "id": "e0f5a32d",
   "metadata": {},
   "outputs": [
    {
     "data": {
      "text/html": [
       "<div>\n",
       "<style scoped>\n",
       "    .dataframe tbody tr th:only-of-type {\n",
       "        vertical-align: middle;\n",
       "    }\n",
       "\n",
       "    .dataframe tbody tr th {\n",
       "        vertical-align: top;\n",
       "    }\n",
       "\n",
       "    .dataframe thead th {\n",
       "        text-align: right;\n",
       "    }\n",
       "</style>\n",
       "<table border=\"1\" class=\"dataframe\">\n",
       "  <thead>\n",
       "    <tr style=\"text-align: right;\">\n",
       "      <th></th>\n",
       "      <th>step</th>\n",
       "      <th>amount</th>\n",
       "      <th>isFlaggedFraud</th>\n",
       "      <th>source_balance_change</th>\n",
       "      <th>destination_balance</th>\n",
       "      <th>dest_balance_change</th>\n",
       "      <th>type</th>\n",
       "      <th>nameOrig</th>\n",
       "      <th>nameDest</th>\n",
       "    </tr>\n",
       "  </thead>\n",
       "  <tbody>\n",
       "    <tr>\n",
       "      <th>6271196</th>\n",
       "      <td>619</td>\n",
       "      <td>386385.08</td>\n",
       "      <td>0</td>\n",
       "      <td>0</td>\n",
       "      <td>386385.08</td>\n",
       "      <td>1</td>\n",
       "      <td>0</td>\n",
       "      <td>4449199</td>\n",
       "      <td>289167</td>\n",
       "    </tr>\n",
       "    <tr>\n",
       "      <th>1888243</th>\n",
       "      <td>164</td>\n",
       "      <td>212458.78</td>\n",
       "      <td>0</td>\n",
       "      <td>0</td>\n",
       "      <td>212458.78</td>\n",
       "      <td>1</td>\n",
       "      <td>0</td>\n",
       "      <td>5813773</td>\n",
       "      <td>204382</td>\n",
       "    </tr>\n",
       "    <tr>\n",
       "      <th>5549957</th>\n",
       "      <td>382</td>\n",
       "      <td>19967.60</td>\n",
       "      <td>0</td>\n",
       "      <td>1</td>\n",
       "      <td>0.00</td>\n",
       "      <td>1</td>\n",
       "      <td>3</td>\n",
       "      <td>5870502</td>\n",
       "      <td>1346491</td>\n",
       "    </tr>\n",
       "    <tr>\n",
       "      <th>2025342</th>\n",
       "      <td>180</td>\n",
       "      <td>527616.51</td>\n",
       "      <td>0</td>\n",
       "      <td>1</td>\n",
       "      <td>527616.51</td>\n",
       "      <td>0</td>\n",
       "      <td>1</td>\n",
       "      <td>5095916</td>\n",
       "      <td>446948</td>\n",
       "    </tr>\n",
       "    <tr>\n",
       "      <th>682342</th>\n",
       "      <td>36</td>\n",
       "      <td>206067.85</td>\n",
       "      <td>0</td>\n",
       "      <td>1</td>\n",
       "      <td>206067.84</td>\n",
       "      <td>0</td>\n",
       "      <td>4</td>\n",
       "      <td>5557736</td>\n",
       "      <td>338417</td>\n",
       "    </tr>\n",
       "  </tbody>\n",
       "</table>\n",
       "</div>"
      ],
      "text/plain": [
       "         step     amount  isFlaggedFraud  source_balance_change  \\\n",
       "6271196   619  386385.08               0                      0   \n",
       "1888243   164  212458.78               0                      0   \n",
       "5549957   382   19967.60               0                      1   \n",
       "2025342   180  527616.51               0                      1   \n",
       "682342     36  206067.85               0                      1   \n",
       "\n",
       "         destination_balance  dest_balance_change  type  nameOrig  nameDest  \n",
       "6271196            386385.08                    1     0   4449199    289167  \n",
       "1888243            212458.78                    1     0   5813773    204382  \n",
       "5549957                 0.00                    1     3   5870502   1346491  \n",
       "2025342            527616.51                    0     1   5095916    446948  \n",
       "682342             206067.84                    0     4   5557736    338417  "
      ]
     },
     "execution_count": 38,
     "metadata": {},
     "output_type": "execute_result"
    }
   ],
   "source": [
    "x_train.head()"
   ]
  },
  {
   "cell_type": "code",
   "execution_count": 39,
   "id": "276b9ccb",
   "metadata": {},
   "outputs": [
    {
     "name": "stderr",
     "output_type": "stream",
     "text": [
      "D:\\anaconda\\lib\\site-packages\\pandas\\core\\frame.py:4906: SettingWithCopyWarning: \n",
      "A value is trying to be set on a copy of a slice from a DataFrame\n",
      "\n",
      "See the caveats in the documentation: https://pandas.pydata.org/pandas-docs/stable/user_guide/indexing.html#returning-a-view-versus-a-copy\n",
      "  return super().drop(\n"
     ]
    }
   ],
   "source": [
    "x_test.drop([\"type\",\"nameOrig\",\"nameDest\"],axis=1,inplace=True)"
   ]
  },
  {
   "cell_type": "code",
   "execution_count": 40,
   "id": "440ea0a7",
   "metadata": {},
   "outputs": [
    {
     "data": {
      "text/html": [
       "<div>\n",
       "<style scoped>\n",
       "    .dataframe tbody tr th:only-of-type {\n",
       "        vertical-align: middle;\n",
       "    }\n",
       "\n",
       "    .dataframe tbody tr th {\n",
       "        vertical-align: top;\n",
       "    }\n",
       "\n",
       "    .dataframe thead th {\n",
       "        text-align: right;\n",
       "    }\n",
       "</style>\n",
       "<table border=\"1\" class=\"dataframe\">\n",
       "  <thead>\n",
       "    <tr style=\"text-align: right;\">\n",
       "      <th></th>\n",
       "      <th>step</th>\n",
       "      <th>amount</th>\n",
       "      <th>isFlaggedFraud</th>\n",
       "      <th>source_balance_change</th>\n",
       "      <th>destination_balance</th>\n",
       "      <th>dest_balance_change</th>\n",
       "    </tr>\n",
       "  </thead>\n",
       "  <tbody>\n",
       "    <tr>\n",
       "      <th>3737323</th>\n",
       "      <td>278</td>\n",
       "      <td>330218.42</td>\n",
       "      <td>0</td>\n",
       "      <td>0</td>\n",
       "      <td>330218.42</td>\n",
       "      <td>1</td>\n",
       "    </tr>\n",
       "    <tr>\n",
       "      <th>264914</th>\n",
       "      <td>15</td>\n",
       "      <td>11647.08</td>\n",
       "      <td>0</td>\n",
       "      <td>1</td>\n",
       "      <td>0.00</td>\n",
       "      <td>1</td>\n",
       "    </tr>\n",
       "    <tr>\n",
       "      <th>85647</th>\n",
       "      <td>10</td>\n",
       "      <td>152264.21</td>\n",
       "      <td>0</td>\n",
       "      <td>0</td>\n",
       "      <td>152264.21</td>\n",
       "      <td>1</td>\n",
       "    </tr>\n",
       "    <tr>\n",
       "      <th>5899326</th>\n",
       "      <td>403</td>\n",
       "      <td>1551760.63</td>\n",
       "      <td>0</td>\n",
       "      <td>1</td>\n",
       "      <td>1551760.63</td>\n",
       "      <td>0</td>\n",
       "    </tr>\n",
       "    <tr>\n",
       "      <th>2544263</th>\n",
       "      <td>206</td>\n",
       "      <td>78172.30</td>\n",
       "      <td>0</td>\n",
       "      <td>0</td>\n",
       "      <td>78172.30</td>\n",
       "      <td>1</td>\n",
       "    </tr>\n",
       "  </tbody>\n",
       "</table>\n",
       "</div>"
      ],
      "text/plain": [
       "         step      amount  isFlaggedFraud  source_balance_change  \\\n",
       "3737323   278   330218.42               0                      0   \n",
       "264914     15    11647.08               0                      1   \n",
       "85647      10   152264.21               0                      0   \n",
       "5899326   403  1551760.63               0                      1   \n",
       "2544263   206    78172.30               0                      0   \n",
       "\n",
       "         destination_balance  dest_balance_change  \n",
       "3737323            330218.42                    1  \n",
       "264914                  0.00                    1  \n",
       "85647              152264.21                    1  \n",
       "5899326           1551760.63                    0  \n",
       "2544263             78172.30                    1  "
      ]
     },
     "execution_count": 40,
     "metadata": {},
     "output_type": "execute_result"
    }
   ],
   "source": [
    "x_test.head()"
   ]
  },
  {
   "cell_type": "code",
   "execution_count": 44,
   "id": "598180c0",
   "metadata": {},
   "outputs": [
    {
     "data": {
      "text/plain": [
       "(5090096, 9)"
      ]
     },
     "execution_count": 44,
     "metadata": {},
     "output_type": "execute_result"
    }
   ],
   "source": [
    "x_train.shape\n"
   ]
  },
  {
   "cell_type": "code",
   "execution_count": 45,
   "id": "7114e2ca",
   "metadata": {},
   "outputs": [
    {
     "data": {
      "text/plain": [
       "(5090096,)"
      ]
     },
     "execution_count": 45,
     "metadata": {},
     "output_type": "execute_result"
    }
   ],
   "source": [
    "y_train.shape"
   ]
  },
  {
   "cell_type": "code",
   "execution_count": 46,
   "id": "2acb2dc4",
   "metadata": {},
   "outputs": [
    {
     "data": {
      "text/plain": [
       "(1272524, 6)"
      ]
     },
     "execution_count": 46,
     "metadata": {},
     "output_type": "execute_result"
    }
   ],
   "source": [
    "x_test.shape"
   ]
  },
  {
   "cell_type": "code",
   "execution_count": 47,
   "id": "5cea2cfe",
   "metadata": {},
   "outputs": [
    {
     "data": {
      "text/plain": [
       "(1272524,)"
      ]
     },
     "execution_count": 47,
     "metadata": {},
     "output_type": "execute_result"
    }
   ],
   "source": [
    "y_test.shape"
   ]
  },
  {
   "cell_type": "markdown",
   "id": "f2208599",
   "metadata": {},
   "source": [
    "## I will use the XGBoost to train the model \n",
    "\n",
    "beacuse\n",
    "\n",
    "Feature scaling is not important in xgboost as here amount can be in any currency\n",
    "\n",
    "As above we see that, amount Data has very much outliers and xgboost is not influenced by outliers"
   ]
  },
  {
   "cell_type": "markdown",
   "id": "a0ffaa42",
   "metadata": {},
   "source": [
    "## Hyperparameter tuning on XGBoost"
   ]
  },
  {
   "cell_type": "code",
   "execution_count": 41,
   "id": "68ed76d1",
   "metadata": {},
   "outputs": [],
   "source": [
    "import xgboost as xgb\n",
    "xgb_model  = xgb.XGBClassifier()"
   ]
  },
  {
   "cell_type": "code",
   "execution_count": null,
   "id": "960718bb",
   "metadata": {},
   "outputs": [],
   "source": [
    "from sklearn.model_selection import GridSearchCV\n",
    "parameters = {\"max_depth\":[1,2,3,4] }\n",
    "clf = GridSearchCV(xgb.XGBClassifier(), parameters, cv=3, scoring='roc_auc',return_train_score=True,n_jobs=-1)\n",
    "clf.fit(x_train,y_train)"
   ]
  },
  {
   "cell_type": "code",
   "execution_count": null,
   "id": "67a507b4",
   "metadata": {},
   "outputs": [],
   "source": [
    "import matplotlib.pyplot as plt\n",
    "max_depth=[1,2,3,4]\n",
    "df=pd.DataFrame.from_dict(clf.cv_results_)\n",
    "train_auc=df['mean_train_score']\n",
    "test_auc=df['mean_test_score']\n",
    "plt.grid()\n",
    "plt.plot(max_depth,train_auc,label=\"Train-Auc\")\n",
    "plt.plot(max_depth,test_auc,label=\"Test-Auc\")\n",
    "plt.legend()\n",
    "plt.title(\"Depth vs Auc\")\n",
    "print(\"Best Parameter\",clf.best_params_)"
   ]
  },
  {
   "cell_type": "markdown",
   "id": "2a7700e8",
   "metadata": {},
   "source": [
    "## Model Training"
   ]
  },
  {
   "cell_type": "code",
   "execution_count": null,
   "id": "76274d6a",
   "metadata": {},
   "outputs": [],
   "source": [
    "from sklearn.metrics import roc_curve, auc\n",
    "\n",
    "model_set=xgb.XGBClassifier(max_depth=4)\n",
    "model_set.fit(x_train,y_train)\n",
    "y_train_probs = model_set.predict_proba(x_train)[:,1] # converting train and test output into probability\n",
    "y_test_probs= model_set.predict_proba(x_test)[:,1]\n",
    "train_fpr, train_tpr, tr_thresholds = roc_curve(y_train, y_train_probs) # storing values of fpr and tpr\n",
    "test_fpr, test_tpr, te_thresholds = roc_curve(y_test, y_test_probs)\n",
    "plt.figure(figsize=(8,6))\n",
    "plt.plot(train_fpr, train_tpr, label=\"Train AUC =\"+str(auc(train_fpr, train_tpr)))\n",
    "plt.plot(test_fpr, test_tpr, label=\"Test AUC =\"+str(auc(test_fpr, test_tpr)))\n",
    "plt.legend()\n",
    "plt.xlabel(\"False Positive Rate(FPR)\")\n",
    "plt.ylabel(\"True Positive Rate(TPR)\")\n",
    "plt.title(\"AUC\")\n",
    "plt.grid(color='black',lw=0.5)"
   ]
  },
  {
   "cell_type": "code",
   "execution_count": null,
   "id": "03168f32",
   "metadata": {},
   "outputs": [],
   "source": [
    "def find_best_threshold(threshould, fpr, tpr):\n",
    " t = threshould[np.argmax(tpr*(1-fpr))]\n",
    " print(\"the maximum value of tpr*(1-fpr)\", max(tpr*(1-fpr)), \"for threshold\", np.round(t,3))\n",
    " return t\n",
    "def predict_with_best_t(probablity, threshould):\n",
    "  prediction=[]\n",
    "  for i in probablity:\n",
    "    if i>=threshould:\n",
    "      prediction.append(1)\n",
    "    else:\n",
    "      prediction.append(0)\n",
    "  return prediction\n"
   ]
  },
  {
   "cell_type": "code",
   "execution_count": null,
   "id": "678bf00f",
   "metadata": {},
   "outputs": [],
   "source": [
    "from sklearn.metrics import confusion_matrix\n",
    "best_t = find_best_threshold(tr_thresholds, train_fpr, train_tpr)\n",
    "print(\"Train confusion matrix\")\n",
    "l=predict_with_best_t(y_train_probs, best_t)\n",
    "k=confusion_matrix(y_train,l)\n",
    "print(k)"
   ]
  },
  {
   "cell_type": "code",
   "execution_count": null,
   "id": "27d67e80",
   "metadata": {},
   "outputs": [],
   "source": [
    "import matplotlib.pyplot as plt \n",
    "import seaborn as sns\n",
    "plt.title(\"Train data \")\n",
    "sns.heatmap(k, annot=True,fmt=\"d\",cmap='Blues')"
   ]
  },
  {
   "cell_type": "code",
   "execution_count": null,
   "id": "e9cdb216",
   "metadata": {},
   "outputs": [],
   "source": [
    "best_t = find_best_threshold(te_thresholds, test_fpr, test_tpr)\n",
    "print(\"Test confusion matrix\")\n",
    "l=predict_with_best_t(y_test_probs, best_t)\n",
    "k=confusion_matrix(y_test,l)\n",
    "print(k)"
   ]
  },
  {
   "cell_type": "code",
   "execution_count": null,
   "id": "346caca3",
   "metadata": {},
   "outputs": [],
   "source": [
    "import matplotlib.pyplot as plt \n",
    "import seaborn as sns\n",
    "plt.title(\"Test data \")\n",
    "sns.heatmap(k, annot=True,fmt=\"d\",cmap='Oranges')"
   ]
  },
  {
   "cell_type": "markdown",
   "id": "66cabb31",
   "metadata": {},
   "source": [
    "## Observations\n",
    "\n",
    "### 1.) Here the accuracy is very high for both train data and test data\n",
    "\n",
    "\n",
    "### 2.)  But if we check the confusion matrix we can observe that number of turely classified \"isfraud\" is very less\n",
    "\n",
    "\n",
    "### 3.) As we have a imbalaced data we can't totaly depend on this output. To achiever this we have to make the balanced data then we have to check the output. to balance the data we have to perform data balancing by doing \"\"under sampling\"\""
   ]
  },
  {
   "cell_type": "markdown",
   "id": "404e6722",
   "metadata": {},
   "source": [
    "## Balanced Data"
   ]
  },
  {
   "cell_type": "code",
   "execution_count": null,
   "id": "46eadb6c",
   "metadata": {},
   "outputs": [],
   "source": [
    "from imblearn.under_sampling import RandomUnderSampler  \n",
    "under_sampler = RandomUnderSampler()\n",
    "X_res, y_res = under_sampler.fit_resample(df,result)"
   ]
  },
  {
   "cell_type": "code",
   "execution_count": null,
   "id": "6af7f903",
   "metadata": {},
   "outputs": [],
   "source": [
    "True_fraud=np.sum(y_res==1)\n",
    "False_fraud=np.sum(y_res==0)\n",
    "print(True_fraud)\n",
    "print(False_fraud)"
   ]
  },
  {
   "cell_type": "code",
   "execution_count": null,
   "id": "7c1583fb",
   "metadata": {},
   "outputs": [],
   "source": [
    "from sklearn.model_selection import train_test_split\n",
    "x_train,x_test,y_train,y_test=train_test_split(X_res,y_res,test_size=0.20,random_state=42)"
   ]
  },
  {
   "cell_type": "code",
   "execution_count": null,
   "id": "a004e4a6",
   "metadata": {},
   "outputs": [],
   "source": [
    "le = preprocessing.LabelEncoder()\n",
    "le.fit(df[\"type\"])\n",
    "train_type=le.transform(x_train[\"type\"])\n",
    "test_type=le.transform(x_test[\"type\"])"
   ]
  },
  {
   "cell_type": "code",
   "execution_count": null,
   "id": "7c119711",
   "metadata": {},
   "outputs": [],
   "source": [
    "le2=preprocessing.LabelEncoder()\n",
    "le2.fit(df[\"nameOrig\"])\n",
    "train_nameOrig=le2.transform(x_train[\"nameOrig\"])\n",
    "test_nameOrig=le2.transform(x_test[\"nameOrig\"])"
   ]
  },
  {
   "cell_type": "code",
   "execution_count": null,
   "id": "adc36875",
   "metadata": {},
   "outputs": [],
   "source": [
    "le3=preprocessing.LabelEncoder()\n",
    "le3.fit(df[\"nameDest\"])\n",
    "train_nameDest=le3.transform(x_train[\"nameDest\"])\n",
    "test_nameDest=le3.transform(x_test[\"nameDest\"])"
   ]
  },
  {
   "cell_type": "code",
   "execution_count": null,
   "id": "862ec761",
   "metadata": {},
   "outputs": [],
   "source": [
    "x_train.drop([\"type\",\"nameOrig\",\"nameDest\"],axis=1,inplace=True)"
   ]
  },
  {
   "cell_type": "code",
   "execution_count": null,
   "id": "d4f421a4",
   "metadata": {},
   "outputs": [],
   "source": [
    "x_train[\"type\"]=train_type\n",
    "x_train[\"nameOrig\"]=train_nameOrig\n",
    "x_train[\"nameDest\"]=train_nameDest"
   ]
  },
  {
   "cell_type": "code",
   "execution_count": null,
   "id": "c4d026a0",
   "metadata": {},
   "outputs": [],
   "source": [
    "x_test.drop([\"type\",\"nameOrig\",\"nameDest\"],axis=1,inplace=True)"
   ]
  },
  {
   "cell_type": "code",
   "execution_count": null,
   "id": "72674fc1",
   "metadata": {},
   "outputs": [],
   "source": [
    "x_test[\"type\"]=test_type\n",
    "x_test[\"nameOrig\"]=test_nameOrig\n",
    "x_test[\"nameDest\"]=test_nameDest"
   ]
  },
  {
   "cell_type": "code",
   "execution_count": null,
   "id": "27fe4fc8",
   "metadata": {},
   "outputs": [],
   "source": [
    "import xgboost as xgb\n",
    "xgb_model  = xgb.XGBClassifier()"
   ]
  },
  {
   "cell_type": "code",
   "execution_count": null,
   "id": "d672d6c8",
   "metadata": {},
   "outputs": [],
   "source": [
    "from sklearn.model_selection import GridSearchCV\n",
    "parameters = {\"max_depth\":[1,2,3,4] }\n",
    "clf = GridSearchCV(xgb.XGBClassifier(), parameters, cv=3, scoring='roc_auc',return_train_score=True,n_jobs=-1)\n",
    "clf.fit(x_train,y_train)"
   ]
  },
  {
   "cell_type": "code",
   "execution_count": null,
   "id": "583defb9",
   "metadata": {},
   "outputs": [],
   "source": [
    "import matplotlib.pyplot as plt\n",
    "max_depth=[1,2,3,4]\n",
    "df=pd.DataFrame.from_dict(clf.cv_results_)\n",
    "train_auc=df['mean_train_score']\n",
    "test_auc=df['mean_test_score']\n",
    "plt.grid()\n",
    "plt.plot(max_depth,train_auc,label=\"Train-Auc\")\n",
    "plt.plot(max_depth,test_auc,label=\"Test-Auc\")\n",
    "plt.legend()\n",
    "plt.title(\"Depth vs Auc\")\n",
    "print(\"Best Parameter\",clf.best_params_)"
   ]
  },
  {
   "cell_type": "code",
   "execution_count": null,
   "id": "60429504",
   "metadata": {},
   "outputs": [],
   "source": [
    "from sklearn.metrics import roc_curve, auc\n",
    "\n",
    "model_set=xgb.XGBClassifier(max_depth=4)\n",
    "model_set.fit(x_train,y_train)\n",
    "y_train_probs = model_set.predict_proba(x_train)[:,1] # converting train and test output into probability\n",
    "y_test_probs= model_set.predict_proba(x_test)[:,1]\n",
    "train_fpr, train_tpr, tr_thresholds = roc_curve(y_train, y_train_probs) # storing values of fpr and tpr\n",
    "test_fpr, test_tpr, te_thresholds = roc_curve(y_test, y_test_probs)\n",
    "plt.figure(figsize=(8,6))\n",
    "plt.plot(train_fpr, train_tpr, label=\"Train AUC =\"+str(auc(train_fpr, train_tpr)))\n",
    "plt.plot(test_fpr, test_tpr, label=\"Test AUC =\"+str(auc(test_fpr, test_tpr)))\n",
    "plt.legend()\n",
    "plt.xlabel(\"False Positive Rate(FPR)\")\n",
    "plt.ylabel(\"True Positive Rate(TPR)\")\n",
    "plt.title(\"AUC\")\n",
    "plt.grid(color='black',lw=0.5)\n"
   ]
  },
  {
   "cell_type": "code",
   "execution_count": null,
   "id": "42a28c3f",
   "metadata": {},
   "outputs": [],
   "source": [
    "def find_best_threshold(threshould, fpr, tpr):\n",
    " t = threshould[np.argmax(tpr*(1-fpr))]\n",
    " print(\"the maximum value of tpr*(1-fpr)\", max(tpr*(1-fpr)), \"for threshold\", np.round(t,3))\n",
    " return t\n",
    "def predict_with_best_t(proba, threshould):\n",
    "  prediction=[]\n",
    "  for i in proba:\n",
    "    if i>=threshould:\n",
    "      prediction.append(1)\n",
    "    else:\n",
    "      prediction.append(0)\n",
    "  return prediction"
   ]
  },
  {
   "cell_type": "code",
   "execution_count": null,
   "id": "042ba53a",
   "metadata": {},
   "outputs": [],
   "source": [
    "from sklearn.metrics import confusion_matrix\n",
    "best_t = find_best_threshold(tr_thresholds, train_fpr, train_tpr)\n",
    "print(\"Train confusion matrix\")\n",
    "l=predict_with_best_t(y_train_probs, best_t)\n",
    "k=confusion_matrix(y_train,l)\n",
    "print(k)"
   ]
  },
  {
   "cell_type": "code",
   "execution_count": null,
   "id": "872d7cde",
   "metadata": {},
   "outputs": [],
   "source": [
    "import matplotlib.pyplot as plt \n",
    "import seaborn as sns\n",
    "plt.title(\"Train data \")\n",
    "sns.heatmap(k, annot=True,fmt=\"d\",cmap='Blues')"
   ]
  },
  {
   "cell_type": "code",
   "execution_count": null,
   "id": "7b7eddef",
   "metadata": {},
   "outputs": [],
   "source": [
    "best_t = find_best_threshold(te_thresholds, test_fpr, test_tpr)\n",
    "print(\"Test confusion matrix\")\n",
    "l=predict_with_best_t(y_test_probs, best_t)\n",
    "k=confusion_matrix(y_test,l)\n",
    "print(k)"
   ]
  },
  {
   "cell_type": "code",
   "execution_count": null,
   "id": "6fed7659",
   "metadata": {},
   "outputs": [],
   "source": [
    "import matplotlib.pyplot as plt \n",
    "import seaborn as sns\n",
    "plt.title(\"Test data \")\n",
    "sns.heatmap(k, annot=True,fmt=\"d\",cmap='Oranges')"
   ]
  },
  {
   "cell_type": "markdown",
   "id": "f5c59c22",
   "metadata": {},
   "source": [
    "# Result\n",
    "\n",
    "### 1.) Here,the accuracy is very high\n",
    "\n",
    "### 2.) Here from confusion matrix we can conclude that it possess good value in Truepositive and TrueNegetive.\n",
    "\n",
    "### 3.) As it's a balanced data, we can say that it will work well in unseen data\n",
    "\n",
    "### 4.) For prevention, we should look into the FN values. if it is very high then we have tp add some other system"
   ]
  },
  {
   "cell_type": "code",
   "execution_count": null,
   "id": "c874f856",
   "metadata": {},
   "outputs": [],
   "source": []
  }
 ],
 "metadata": {
  "kernelspec": {
   "display_name": "Python 3 (ipykernel)",
   "language": "python",
   "name": "python3"
  },
  "language_info": {
   "codemirror_mode": {
    "name": "ipython",
    "version": 3
   },
   "file_extension": ".py",
   "mimetype": "text/x-python",
   "name": "python",
   "nbconvert_exporter": "python",
   "pygments_lexer": "ipython3",
   "version": "3.9.7"
  }
 },
 "nbformat": 4,
 "nbformat_minor": 5
}
